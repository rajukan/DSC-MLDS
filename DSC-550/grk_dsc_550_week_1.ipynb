{
 "cells": [
  {
   "cell_type": "markdown",
   "metadata": {},
   "source": [
    "**1. Evaluate coscos and sinsin on the interval [0,1][0,1] and then stack the results into a tall array with rows being the (cos(x),sin(x))(cos⁡f()(x),sinf()⁡(x)) entries.**"
   ]
  },
  {
   "cell_type": "code",
   "metadata": {
    "ExecuteTime": {
     "end_time": "2024-10-04T19:27:39.560509Z",
     "start_time": "2024-10-04T19:27:39.555731Z"
    }
   },
   "source": [
    "import numpy as np"
   ],
   "outputs": [],
   "execution_count": 1
  },
  {
   "cell_type": "code",
   "execution_count": 38,
   "metadata": {},
   "outputs": [],
   "source": [
    "arr = (np.linspace(0,1))\n",
    "\n",
    "# cos and sin\n",
    "arr_cos = np.cos(arr)\n",
    "arr_sin = np.sin(arr)\n",
    "\n",
    "# derivative of cos and sin\n",
    "diff_cos = np.diff(arr_cos)\n",
    "diff_sin = np.diff(arr_sin)"
   ]
  },
  {
   "cell_type": "code",
   "execution_count": 39,
   "metadata": {},
   "outputs": [
    {
     "data": {
      "text/plain": [
       "array([ 1.00000000e+00,  9.99791761e-01,  9.99167129e-01,  9.98126366e-01,\n",
       "        9.96669905e-01,  9.94798352e-01,  9.92512486e-01,  9.89813260e-01,\n",
       "        9.86701799e-01,  9.83179396e-01,  9.79247521e-01,  9.74907810e-01,\n",
       "        9.70162071e-01,  9.65012279e-01,  9.59460581e-01,  9.53509288e-01,\n",
       "        9.47160879e-01,  9.40417997e-01,  9.33283451e-01,  9.25760213e-01,\n",
       "        9.17851415e-01,  9.09560352e-01,  9.00890476e-01,  8.91845398e-01,\n",
       "        8.82428886e-01,  8.72644861e-01,  8.62497399e-01,  8.51990724e-01,\n",
       "        8.41129213e-01,  8.29917390e-01,  8.18359925e-01,  8.06461629e-01,\n",
       "        7.94227460e-01,  7.81662512e-01,  7.68772018e-01,  7.55561347e-01,\n",
       "        7.42036000e-01,  7.28201612e-01,  7.14063943e-01,  6.99628882e-01,\n",
       "        6.84902440e-01,  6.69890751e-01,  6.54600067e-01,  6.39036755e-01,\n",
       "        6.23207299e-01,  6.07118290e-01,  5.90776429e-01,  5.74188523e-01,\n",
       "        5.57361479e-01,  5.40302306e-01,  0.00000000e+00,  2.04067467e-02,\n",
       "        4.08049943e-02,  6.11862476e-02,  8.15420181e-02,  1.01863828e-01,\n",
       "        1.22143214e-01,  1.42371730e-01,  1.62540951e-01,  1.82642477e-01,\n",
       "        2.02667937e-01,  2.22608989e-01,  2.42457330e-01,  2.62204692e-01,\n",
       "        2.81842852e-01,  3.01363630e-01,  3.20758897e-01,  3.40020575e-01,\n",
       "        3.59140641e-01,  3.78111132e-01,  3.96924149e-01,  4.15571855e-01,\n",
       "        4.34046484e-01,  4.52340342e-01,  4.70445810e-01,  4.88355348e-01,\n",
       "        5.06061496e-01,  5.23556880e-01,  5.40834213e-01,  5.57886301e-01,\n",
       "        5.74706041e-01,  5.91286428e-01,  6.07620558e-01,  6.23701626e-01,\n",
       "        6.39522935e-01,  6.55077897e-01,  6.70360033e-01,  6.85362979e-01,\n",
       "        7.00080485e-01,  7.14506422e-01,  7.28634783e-01,  7.42459684e-01,\n",
       "        7.55975365e-01,  7.69176199e-01,  7.82056687e-01,  7.94611466e-01,\n",
       "        8.06835306e-01,  8.18723116e-01,  8.30269945e-01,  8.41470985e-01,\n",
       "       -2.08239336e-04, -6.24631282e-04, -1.04076308e-03, -1.45646143e-03,\n",
       "       -1.87155318e-03, -2.28586548e-03, -2.69922576e-03, -3.11146188e-03,\n",
       "       -3.52240213e-03, -3.93187538e-03, -4.33971109e-03, -4.74573940e-03,\n",
       "       -5.14979121e-03, -5.55169824e-03, -5.95129311e-03, -6.34840940e-03,\n",
       "       -6.74288170e-03, -7.13454574e-03, -7.52323839e-03, -7.90879778e-03,\n",
       "       -8.29106332e-03, -8.66987580e-03, -9.04507747e-03, -9.41651206e-03,\n",
       "       -9.78402487e-03, -1.01474628e-02, -1.05066746e-02, -1.08615106e-02,\n",
       "       -1.12118230e-02, -1.15574659e-02, -1.18982953e-02, -1.22341694e-02,\n",
       "       -1.25649482e-02, -1.28904939e-02, -1.32106711e-02, -1.35253463e-02,\n",
       "       -1.38343884e-02, -1.41376689e-02, -1.44350613e-02, -1.47264418e-02,\n",
       "       -1.50116891e-02, -1.52906843e-02, -1.55633112e-02, -1.58294564e-02,\n",
       "       -1.60890090e-02, -1.63418608e-02, -1.65879066e-02, -1.68270438e-02,\n",
       "       -1.70591730e-02,  2.04067467e-02,  2.03982477e-02,  2.03812533e-02,\n",
       "        2.03557705e-02,  2.03218100e-02,  2.02793859e-02,  2.02285158e-02,\n",
       "        2.01692210e-02,  2.01015262e-02,  2.00254595e-02,  1.99410526e-02,\n",
       "        1.98483407e-02,  1.97473624e-02,  1.96381598e-02,  1.95207782e-02,\n",
       "        1.93952667e-02,  1.92616775e-02,  1.91200662e-02,  1.89704917e-02,\n",
       "        1.88130165e-02,  1.86477061e-02,  1.84746293e-02,  1.82938582e-02,\n",
       "        1.81054680e-02,  1.79095374e-02,  1.77061478e-02,  1.74953840e-02,\n",
       "        1.72773337e-02,  1.70520878e-02,  1.68197401e-02,  1.65803872e-02,\n",
       "        1.63341291e-02,  1.60810681e-02,  1.58213096e-02,  1.55549620e-02,\n",
       "        1.52821360e-02,  1.50029453e-02,  1.47175063e-02,  1.44259377e-02,\n",
       "        1.41283610e-02,  1.38249002e-02,  1.35156815e-02,  1.32008339e-02,\n",
       "        1.28804884e-02,  1.25547785e-02,  1.22238398e-02,  1.18878101e-02,\n",
       "        1.15468294e-02,  1.12010396e-02])"
      ]
     },
     "execution_count": 39,
     "metadata": {},
     "output_type": "execute_result"
    }
   ],
   "source": [
    "np.concatenate((arr_cos, arr_sin, diff_cos, diff_sin), axis=0)"
   ]
  },
  {
   "cell_type": "markdown",
   "metadata": {},
   "source": [
    "**2. Create a random 3×53×5 array using the np.random.rand(3, 5) function and compute: the sum of all the entries, the sum of the rows and the sum of the columns. (Just like sorted had an optional key= argument, many Numpy functions have an optional axis= argument!)**"
   ]
  },
  {
   "cell_type": "code",
   "execution_count": 8,
   "metadata": {},
   "outputs": [
    {
     "name": "stdout",
     "output_type": "stream",
     "text": [
      "The original random array is: \n",
      "[[0.73686975 0.81601335 0.3625006  0.74074204 0.65532673]\n",
      " [0.89316736 0.19368954 0.2310693  0.79021479 0.19308573]\n",
      " [0.84557715 0.77196409 0.6990438  0.80402481 0.94895082]]\n"
     ]
    }
   ],
   "source": [
    "# Create 3X5 random array\n",
    "rand1 = np.random.rand(3,5)\n",
    "\n",
    "# Calculate sum of rows and put it in an array\n",
    "rowsum1 = rand1.sum(axis=1)\n",
    "\n",
    "# Calculate sum of columns and put it in an array\n",
    "colsum1 = rand1.sum(axis=0)\n",
    "\n",
    "# Original array\n",
    "print('The original 3X5 random array is: ')\n",
    "print(rand1)"
   ]
  },
  {
   "cell_type": "code",
   "execution_count": 9,
   "metadata": {},
   "outputs": [
    {
     "name": "stdout",
     "output_type": "stream",
     "text": [
      "The original random array is: \n",
      "[3.31145246 2.30122673 4.06956066]\n"
     ]
    }
   ],
   "source": [
    "# Sum of rows\n",
    "print('Sum of the 3 rows: ')\n",
    "print(rowsum1)"
   ]
  },
  {
   "cell_type": "code",
   "execution_count": 10,
   "metadata": {},
   "outputs": [
    {
     "name": "stdout",
     "output_type": "stream",
     "text": [
      "Sum of the 5 columns: \n",
      "[2.47561426 1.78166698 1.29261369 2.33498164 1.79736328]\n"
     ]
    }
   ],
   "source": [
    "# Sum of columns\n",
    "print('Sum of the 5 columns: ')\n",
    "print(colsum1)"
   ]
  },
  {
   "cell_type": "markdown",
   "metadata": {},
   "source": [
    "**3. Create a random 5×55×5 array using the function np.random.rand(5, 5). We want to sort the rows according to the second column. Try combining array slicing + argsort + indexing to do this.**"
   ]
  },
  {
   "cell_type": "code",
   "execution_count": 16,
   "metadata": {},
   "outputs": [
    {
     "name": "stdout",
     "output_type": "stream",
     "text": [
      "The original random array is:\n",
      "[[0.72647076 0.18410716 0.25592108 0.76218859 0.90856839]\n",
      " [0.22575417 0.28510321 0.26640663 0.00465807 0.13115311]\n",
      " [0.30392757 0.62789906 0.91427095 0.26483916 0.06785717]\n",
      " [0.34876133 0.31036651 0.84287758 0.08003421 0.94992997]\n",
      " [0.27132038 0.88971208 0.58637259 0.52149879 0.83080709]]\n"
     ]
    }
   ],
   "source": [
    "# Create 3X5 random array\n",
    "rand2 = np.random.rand(5,5)\n",
    "\n",
    "print('The original random array is:')\n",
    "print(rand2)"
   ]
  },
  {
   "cell_type": "code",
   "execution_count": 18,
   "metadata": {},
   "outputs": [
    {
     "name": "stdout",
     "output_type": "stream",
     "text": [
      "The random array sorted by the second column:\n",
      "[[0.72647076 0.18410716 0.25592108 0.76218859 0.90856839]\n",
      " [0.22575417 0.28510321 0.26640663 0.00465807 0.13115311]\n",
      " [0.34876133 0.31036651 0.84287758 0.08003421 0.94992997]\n",
      " [0.30392757 0.62789906 0.91427095 0.26483916 0.06785717]\n",
      " [0.27132038 0.88971208 0.58637259 0.52149879 0.83080709]]\n"
     ]
    }
   ],
   "source": [
    "# argsort will return an array of indices based on the second column\n",
    "# The array will then be sorted based on those indices\n",
    "rand2_sort = rand2[np.argsort(rand2[:, 1])]\n",
    "\n",
    "print('The random array sorted by the second column:')\n",
    "print(rand2_sort)"
   ]
  },
  {
   "cell_type": "code",
   "execution_count": null,
   "metadata": {},
   "outputs": [],
   "source": []
  }
 ],
 "metadata": {
  "kernelspec": {
   "display_name": "Python 3",
   "language": "python",
   "name": "python3"
  },
  "language_info": {
   "codemirror_mode": {
    "name": "ipython",
    "version": 3
   },
   "file_extension": ".py",
   "mimetype": "text/x-python",
   "name": "python",
   "nbconvert_exporter": "python",
   "pygments_lexer": "ipython3",
   "version": "3.6.4"
  }
 },
 "nbformat": 4,
 "nbformat_minor": 2
}
